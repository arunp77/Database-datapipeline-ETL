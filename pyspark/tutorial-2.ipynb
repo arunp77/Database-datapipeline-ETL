{
 "cells": [
  {
   "cell_type": "markdown",
   "metadata": {},
   "source": [
    "# Pyspark"
   ]
  },
  {
   "cell_type": "markdown",
   "metadata": {},
   "source": [
    "In this tutorial I will be learning following:\n",
    "\n",
    "- various ways of loading the dataset into pyspark frame\n",
    "- doing various operations such as data cleaning, adding columns etc.\n",
    "- in the end doing some machine learning practices"
   ]
  },
  {
   "cell_type": "code",
   "execution_count": 1,
   "metadata": {},
   "outputs": [],
   "source": [
    "## Let's first import the pyspark library\n",
    "import pyspark"
   ]
  },
  {
   "cell_type": "code",
   "execution_count": 2,
   "metadata": {},
   "outputs": [],
   "source": [
    "## then imporing the SparkSession to start the pyspark session\n",
    "from pyspark.sql import SparkSession"
   ]
  },
  {
   "cell_type": "code",
   "execution_count": 3,
   "metadata": {},
   "outputs": [
    {
     "name": "stderr",
     "output_type": "stream",
     "text": [
      "Setting default log level to \"WARN\".\n",
      "To adjust logging level use sc.setLogLevel(newLevel). For SparkR, use setLogLevel(newLevel).\n",
      "24/02/06 10:20:22 WARN NativeCodeLoader: Unable to load native-hadoop library for your platform... using builtin-java classes where applicable\n"
     ]
    },
    {
     "data": {
      "text/html": [
       "\n",
       "            <div>\n",
       "                <p><b>SparkSession - in-memory</b></p>\n",
       "                \n",
       "        <div>\n",
       "            <p><b>SparkContext</b></p>\n",
       "\n",
       "            <p><a href=\"http://ip-172-31-11-117.eu-west-1.compute.internal:4040\">Spark UI</a></p>\n",
       "\n",
       "            <dl>\n",
       "              <dt>Version</dt>\n",
       "                <dd><code>v3.5.0</code></dd>\n",
       "              <dt>Master</dt>\n",
       "                <dd><code>local[*]</code></dd>\n",
       "              <dt>AppName</dt>\n",
       "                <dd><code>Dataframe</code></dd>\n",
       "            </dl>\n",
       "        </div>\n",
       "        \n",
       "            </div>\n",
       "        "
      ],
      "text/plain": [
       "<pyspark.sql.session.SparkSession at 0x7f544df78e20>"
      ]
     },
     "execution_count": 3,
     "metadata": {},
     "output_type": "execute_result"
    }
   ],
   "source": [
    "## next step is to create a spark session using 'SparkSession'\n",
    "spark = SparkSession.builder.appName('Dataframe').getOrCreate()\n",
    "spark"
   ]
  },
  {
   "cell_type": "markdown",
   "metadata": {},
   "source": [
    "### There are various way one can laod a dataset in pyspark"
   ]
  },
  {
   "cell_type": "code",
   "execution_count": 4,
   "metadata": {},
   "outputs": [
    {
     "name": "stderr",
     "output_type": "stream",
     "text": [
      "                                                                                \r"
     ]
    }
   ],
   "source": [
    "## read the dataset\n",
    "df_pyspark = spark.read.option('header', 'true').csv('test.csv', inferSchema=True)"
   ]
  },
  {
   "cell_type": "code",
   "execution_count": 5,
   "metadata": {},
   "outputs": [
    {
     "name": "stdout",
     "output_type": "stream",
     "text": [
      "root\n",
      " |-- Name: string (nullable = true)\n",
      " |-- Age: integer (nullable = true)\n",
      " |-- Experience: integer (nullable = true)\n",
      "\n"
     ]
    }
   ],
   "source": [
    "## let's check schema\n",
    "df_pyspark.printSchema()"
   ]
  },
  {
   "cell_type": "code",
   "execution_count": 6,
   "metadata": {},
   "outputs": [
    {
     "name": "stderr",
     "output_type": "stream",
     "text": [
      "                                                                                \r"
     ]
    },
    {
     "name": "stdout",
     "output_type": "stream",
     "text": [
      "+-------+---+----------+\n",
      "|   Name|Age|Experience|\n",
      "+-------+---+----------+\n",
      "|  Sunny| 24|         3|\n",
      "|   Ravi| 29|         4|\n",
      "|Praveen| 22|         2|\n",
      "|   Ayan| 19|         1|\n",
      "|Sarvesh| 32|         6|\n",
      "|   Gyan| 26|         2|\n",
      "|Sreyash| 27|         3|\n",
      "|Parvati| 24|         1|\n",
      "|Parmesh| 28|         4|\n",
      "+-------+---+----------+\n",
      "\n"
     ]
    }
   ],
   "source": [
    "## second method to load the dataset\n",
    "df_pyspark = spark.read.csv('test.csv', header=True, inferSchema=True)\n",
    "df_pyspark.show()"
   ]
  },
  {
   "cell_type": "code",
   "execution_count": 7,
   "metadata": {},
   "outputs": [
    {
     "name": "stdout",
     "output_type": "stream",
     "text": [
      "root\n",
      " |-- Name: string (nullable = true)\n",
      " |-- Age: integer (nullable = true)\n",
      " |-- Experience: integer (nullable = true)\n",
      "\n"
     ]
    }
   ],
   "source": [
    "## check the schema\n",
    "df_pyspark.printSchema()"
   ]
  },
  {
   "cell_type": "markdown",
   "metadata": {},
   "source": [
    "### selecting columns and indexing"
   ]
  },
  {
   "cell_type": "code",
   "execution_count": 8,
   "metadata": {},
   "outputs": [
    {
     "data": {
      "text/plain": [
       "[Row(Name='Sunny', Age=24, Experience=3),\n",
       " Row(Name='Ravi', Age=29, Experience=4),\n",
       " Row(Name='Praveen', Age=22, Experience=2)]"
      ]
     },
     "execution_count": 8,
     "metadata": {},
     "output_type": "execute_result"
    }
   ],
   "source": [
    "df_pyspark.head(3)"
   ]
  },
  {
   "cell_type": "code",
   "execution_count": 9,
   "metadata": {},
   "outputs": [
    {
     "name": "stdout",
     "output_type": "stream",
     "text": [
      "+-------+---+----------+\n",
      "|   Name|Age|Experience|\n",
      "+-------+---+----------+\n",
      "|  Sunny| 24|         3|\n",
      "|   Ravi| 29|         4|\n",
      "|Praveen| 22|         2|\n",
      "|   Ayan| 19|         1|\n",
      "|Sarvesh| 32|         6|\n",
      "|   Gyan| 26|         2|\n",
      "|Sreyash| 27|         3|\n",
      "|Parvati| 24|         1|\n",
      "|Parmesh| 28|         4|\n",
      "+-------+---+----------+\n",
      "\n"
     ]
    }
   ],
   "source": [
    "df_pyspark.show()"
   ]
  },
  {
   "cell_type": "markdown",
   "metadata": {},
   "source": [
    "### selecting the Name column"
   ]
  },
  {
   "cell_type": "code",
   "execution_count": 10,
   "metadata": {},
   "outputs": [
    {
     "name": "stdout",
     "output_type": "stream",
     "text": [
      "+-------+\n",
      "|   Name|\n",
      "+-------+\n",
      "|  Sunny|\n",
      "|   Ravi|\n",
      "|Praveen|\n",
      "|   Ayan|\n",
      "|Sarvesh|\n",
      "|   Gyan|\n",
      "|Sreyash|\n",
      "|Parvati|\n",
      "|Parmesh|\n",
      "+-------+\n",
      "\n"
     ]
    }
   ],
   "source": [
    "df_pyspark.select('Name').show()"
   ]
  },
  {
   "cell_type": "markdown",
   "metadata": {},
   "source": [
    "### selecting multiple columns\n",
    "\n",
    "To access a column named 'Experience' in a PySpark DataFrame, we can use the `select` method or `indexing` directly into the DataFrame. Both of these methods will return a DataFrame containing only the 'Experience' column. "
   ]
  },
  {
   "cell_type": "code",
   "execution_count": 11,
   "metadata": {},
   "outputs": [
    {
     "name": "stdout",
     "output_type": "stream",
     "text": [
      "+----------+\n",
      "|Experience|\n",
      "+----------+\n",
      "|         3|\n",
      "|         4|\n",
      "|         2|\n",
      "|         1|\n",
      "|         6|\n",
      "|         2|\n",
      "|         3|\n",
      "|         1|\n",
      "|         4|\n",
      "+----------+\n",
      "\n"
     ]
    }
   ],
   "source": [
    "## using select function\n",
    "df_pyspark.select(['Experience']).show()"
   ]
  },
  {
   "cell_type": "code",
   "execution_count": 12,
   "metadata": {},
   "outputs": [
    {
     "data": {
      "text/plain": [
       "Column<'Experience'>"
      ]
     },
     "execution_count": 12,
     "metadata": {},
     "output_type": "execute_result"
    }
   ],
   "source": [
    "## using indexing\n",
    "df_pyspark['Experience']"
   ]
  },
  {
   "cell_type": "code",
   "execution_count": 13,
   "metadata": {},
   "outputs": [
    {
     "name": "stdout",
     "output_type": "stream",
     "text": [
      "+-------+----------+\n",
      "|   Name|Experience|\n",
      "+-------+----------+\n",
      "|  Sunny|         3|\n",
      "|   Ravi|         4|\n",
      "|Praveen|         2|\n",
      "|   Ayan|         1|\n",
      "|Sarvesh|         6|\n",
      "|   Gyan|         2|\n",
      "|Sreyash|         3|\n",
      "|Parvati|         1|\n",
      "|Parmesh|         4|\n",
      "+-------+----------+\n",
      "\n"
     ]
    }
   ],
   "source": [
    "df_pyspark.select(['Name','Experience']).show()"
   ]
  },
  {
   "cell_type": "markdown",
   "metadata": {},
   "source": [
    "### Datatypes"
   ]
  },
  {
   "cell_type": "code",
   "execution_count": 14,
   "metadata": {},
   "outputs": [
    {
     "data": {
      "text/plain": [
       "[('Name', 'string'), ('Age', 'int'), ('Experience', 'int')]"
      ]
     },
     "execution_count": 14,
     "metadata": {},
     "output_type": "execute_result"
    }
   ],
   "source": [
    "df_pyspark.dtypes"
   ]
  },
  {
   "cell_type": "markdown",
   "metadata": {},
   "source": [
    "### pyspark describe"
   ]
  },
  {
   "cell_type": "code",
   "execution_count": 15,
   "metadata": {},
   "outputs": [
    {
     "data": {
      "text/plain": [
       "DataFrame[summary: string, Name: string, Age: string, Experience: string]"
      ]
     },
     "execution_count": 15,
     "metadata": {},
     "output_type": "execute_result"
    }
   ],
   "source": [
    "df_pyspark.describe()"
   ]
  },
  {
   "cell_type": "code",
   "execution_count": 16,
   "metadata": {},
   "outputs": [
    {
     "name": "stderr",
     "output_type": "stream",
     "text": [
      "[Stage 10:>                                                         (0 + 1) / 1]\r"
     ]
    },
    {
     "name": "stdout",
     "output_type": "stream",
     "text": [
      "+-------+-----+------------------+------------------+\n",
      "|summary| Name|               Age|        Experience|\n",
      "+-------+-----+------------------+------------------+\n",
      "|  count|    9|                 9|                 9|\n",
      "|   mean| NULL|25.666666666666668| 2.888888888888889|\n",
      "| stddev| NULL| 3.905124837953327|1.6158932858054431|\n",
      "|    min| Ayan|                19|                 1|\n",
      "|    max|Sunny|                32|                 6|\n",
      "+-------+-----+------------------+------------------+\n",
      "\n"
     ]
    },
    {
     "name": "stderr",
     "output_type": "stream",
     "text": [
      "                                                                                \r"
     ]
    }
   ],
   "source": [
    "df_pyspark.describe().show()"
   ]
  },
  {
   "cell_type": "markdown",
   "metadata": {},
   "source": [
    "### adding and deleting columns"
   ]
  },
  {
   "cell_type": "code",
   "execution_count": 17,
   "metadata": {},
   "outputs": [],
   "source": [
    "## adding a column to the dataframe\n",
    "df_pyspark = df_pyspark.withColumn('Experience After 2 years', df_pyspark['Experience']+2)"
   ]
  },
  {
   "cell_type": "code",
   "execution_count": 18,
   "metadata": {},
   "outputs": [
    {
     "name": "stdout",
     "output_type": "stream",
     "text": [
      "+-------+---+----------+------------------------+\n",
      "|   Name|Age|Experience|Experience After 2 years|\n",
      "+-------+---+----------+------------------------+\n",
      "|  Sunny| 24|         3|                       5|\n",
      "|   Ravi| 29|         4|                       6|\n",
      "|Praveen| 22|         2|                       4|\n",
      "|   Ayan| 19|         1|                       3|\n",
      "|Sarvesh| 32|         6|                       8|\n",
      "|   Gyan| 26|         2|                       4|\n",
      "|Sreyash| 27|         3|                       5|\n",
      "|Parvati| 24|         1|                       3|\n",
      "|Parmesh| 28|         4|                       6|\n",
      "+-------+---+----------+------------------------+\n",
      "\n"
     ]
    }
   ],
   "source": [
    "df_pyspark.show()"
   ]
  },
  {
   "cell_type": "code",
   "execution_count": 19,
   "metadata": {},
   "outputs": [],
   "source": [
    "## drop the column\n",
    "df_pyspark = df_pyspark.drop('Experience After 2 years')"
   ]
  },
  {
   "cell_type": "code",
   "execution_count": 20,
   "metadata": {},
   "outputs": [
    {
     "name": "stdout",
     "output_type": "stream",
     "text": [
      "+-------+---+----------+\n",
      "|   Name|Age|Experience|\n",
      "+-------+---+----------+\n",
      "|  Sunny| 24|         3|\n",
      "|   Ravi| 29|         4|\n",
      "|Praveen| 22|         2|\n",
      "|   Ayan| 19|         1|\n",
      "|Sarvesh| 32|         6|\n",
      "|   Gyan| 26|         2|\n",
      "|Sreyash| 27|         3|\n",
      "|Parvati| 24|         1|\n",
      "|Parmesh| 28|         4|\n",
      "+-------+---+----------+\n",
      "\n"
     ]
    }
   ],
   "source": [
    "df_pyspark.show()"
   ]
  },
  {
   "cell_type": "markdown",
   "metadata": {},
   "source": [
    "### Renaming the columns"
   ]
  },
  {
   "cell_type": "code",
   "execution_count": 21,
   "metadata": {},
   "outputs": [
    {
     "name": "stdout",
     "output_type": "stream",
     "text": [
      "+--------+---+----------+\n",
      "|New Name|Age|Experience|\n",
      "+--------+---+----------+\n",
      "|   Sunny| 24|         3|\n",
      "|    Ravi| 29|         4|\n",
      "| Praveen| 22|         2|\n",
      "|    Ayan| 19|         1|\n",
      "| Sarvesh| 32|         6|\n",
      "|    Gyan| 26|         2|\n",
      "| Sreyash| 27|         3|\n",
      "| Parvati| 24|         1|\n",
      "| Parmesh| 28|         4|\n",
      "+--------+---+----------+\n",
      "\n"
     ]
    }
   ],
   "source": [
    "df_pyspark.withColumnRenamed('Name', 'New Name').show()"
   ]
  },
  {
   "cell_type": "markdown",
   "metadata": {},
   "source": [
    "# Pyspark Handling Missing values and some statistics\n",
    "- Dropping Columns\n",
    "- Dropping Rows\n",
    "- Various parameter in Dropping funcionalities\n",
    "- Handling Missing values by mean, median and mode"
   ]
  },
  {
   "cell_type": "code",
   "execution_count": 4,
   "metadata": {},
   "outputs": [
    {
     "name": "stderr",
     "output_type": "stream",
     "text": [
      "                                                                                \r"
     ]
    }
   ],
   "source": [
    "## read the dataset\n",
    "df_pyspark1 = spark.read.csv('test1.csv', header=True, inferSchema=True)"
   ]
  },
  {
   "cell_type": "code",
   "execution_count": 5,
   "metadata": {},
   "outputs": [
    {
     "name": "stdout",
     "output_type": "stream",
     "text": [
      "+-------+----+----------+------+\n",
      "|   Name| Age|Experience|Salary|\n",
      "+-------+----+----------+------+\n",
      "|  Sunny|  24|         3| 30000|\n",
      "|   Ravi|  29|         4| 32000|\n",
      "|Praveen|  22|         2| 25000|\n",
      "|   Ayan|  19|         1| 23000|\n",
      "|Sarvesh|  32|         6| 35000|\n",
      "|   Gyan|  26|         2| 31000|\n",
      "|Sreyash|  27|         3| 29500|\n",
      "|Parvati|  24|         1| 23000|\n",
      "|Parmesh|  28|         4| 24000|\n",
      "| Mahesh|NULL|      NULL| 40000|\n",
      "|   NULL|  34|        10| 38000|\n",
      "|   NULL|  36|      NULL|  NULL|\n",
      "+-------+----+----------+------+\n",
      "\n"
     ]
    }
   ],
   "source": [
    "df_pyspark1.show()"
   ]
  },
  {
   "cell_type": "code",
   "execution_count": 6,
   "metadata": {},
   "outputs": [
    {
     "name": "stdout",
     "output_type": "stream",
     "text": [
      "+----+----------+------+\n",
      "| Age|Experience|Salary|\n",
      "+----+----------+------+\n",
      "|  24|         3| 30000|\n",
      "|  29|         4| 32000|\n",
      "|  22|         2| 25000|\n",
      "|  19|         1| 23000|\n",
      "|  32|         6| 35000|\n",
      "|  26|         2| 31000|\n",
      "|  27|         3| 29500|\n",
      "|  24|         1| 23000|\n",
      "|  28|         4| 24000|\n",
      "|NULL|      NULL| 40000|\n",
      "|  34|        10| 38000|\n",
      "|  36|      NULL|  NULL|\n",
      "+----+----------+------+\n",
      "\n"
     ]
    }
   ],
   "source": [
    "## dropo the column\n",
    "df_pyspark1.drop('Name').show()"
   ]
  },
  {
   "cell_type": "code",
   "execution_count": 7,
   "metadata": {},
   "outputs": [
    {
     "name": "stdout",
     "output_type": "stream",
     "text": [
      "+-------+---+----------+------+\n",
      "|   Name|Age|Experience|Salary|\n",
      "+-------+---+----------+------+\n",
      "|  Sunny| 24|         3| 30000|\n",
      "|   Ravi| 29|         4| 32000|\n",
      "|Praveen| 22|         2| 25000|\n",
      "|   Ayan| 19|         1| 23000|\n",
      "|Sarvesh| 32|         6| 35000|\n",
      "|   Gyan| 26|         2| 31000|\n",
      "|Sreyash| 27|         3| 29500|\n",
      "|Parvati| 24|         1| 23000|\n",
      "|Parmesh| 28|         4| 24000|\n",
      "+-------+---+----------+------+\n",
      "\n"
     ]
    }
   ],
   "source": [
    "## dropping Nan values\n",
    "df_pyspark1.na.drop().show()"
   ]
  },
  {
   "cell_type": "markdown",
   "metadata": {},
   "source": [
    "Normally the drop function requires folloing:\n",
    "\n",
    "`.drop(how='any',thresh=None,subset=None)`"
   ]
  },
  {
   "cell_type": "code",
   "execution_count": 8,
   "metadata": {},
   "outputs": [
    {
     "name": "stdout",
     "output_type": "stream",
     "text": [
      "+-------+---+----------+------+\n",
      "|   Name|Age|Experience|Salary|\n",
      "+-------+---+----------+------+\n",
      "|  Sunny| 24|         3| 30000|\n",
      "|   Ravi| 29|         4| 32000|\n",
      "|Praveen| 22|         2| 25000|\n",
      "|   Ayan| 19|         1| 23000|\n",
      "|Sarvesh| 32|         6| 35000|\n",
      "|   Gyan| 26|         2| 31000|\n",
      "|Sreyash| 27|         3| 29500|\n",
      "|Parvati| 24|         1| 23000|\n",
      "|Parmesh| 28|         4| 24000|\n",
      "+-------+---+----------+------+\n",
      "\n"
     ]
    }
   ],
   "source": [
    "## any ==how\n",
    "df_pyspark1.na.drop(how='any').show() # it will delete any row with nan values"
   ]
  },
  {
   "cell_type": "code",
   "execution_count": 9,
   "metadata": {},
   "outputs": [
    {
     "name": "stdout",
     "output_type": "stream",
     "text": [
      "+-------+----+----------+------+\n",
      "|   Name| Age|Experience|Salary|\n",
      "+-------+----+----------+------+\n",
      "|  Sunny|  24|         3| 30000|\n",
      "|   Ravi|  29|         4| 32000|\n",
      "|Praveen|  22|         2| 25000|\n",
      "|   Ayan|  19|         1| 23000|\n",
      "|Sarvesh|  32|         6| 35000|\n",
      "|   Gyan|  26|         2| 31000|\n",
      "|Sreyash|  27|         3| 29500|\n",
      "|Parvati|  24|         1| 23000|\n",
      "|Parmesh|  28|         4| 24000|\n",
      "| Mahesh|NULL|      NULL| 40000|\n",
      "|   NULL|  34|        10| 38000|\n",
      "+-------+----+----------+------+\n",
      "\n"
     ]
    }
   ],
   "source": [
    "## threshold\n",
    "df_pyspark1.na.drop(how='any', thresh =2).show() # it will delete row with atleast 2 non `nan` values"
   ]
  },
  {
   "cell_type": "code",
   "execution_count": 10,
   "metadata": {},
   "outputs": [
    {
     "name": "stdout",
     "output_type": "stream",
     "text": [
      "+-------+---+----------+------+\n",
      "|   Name|Age|Experience|Salary|\n",
      "+-------+---+----------+------+\n",
      "|  Sunny| 24|         3| 30000|\n",
      "|   Ravi| 29|         4| 32000|\n",
      "|Praveen| 22|         2| 25000|\n",
      "|   Ayan| 19|         1| 23000|\n",
      "|Sarvesh| 32|         6| 35000|\n",
      "|   Gyan| 26|         2| 31000|\n",
      "|Sreyash| 27|         3| 29500|\n",
      "|Parvati| 24|         1| 23000|\n",
      "|Parmesh| 28|         4| 24000|\n",
      "|   NULL| 34|        10| 38000|\n",
      "+-------+---+----------+------+\n",
      "\n"
     ]
    }
   ],
   "source": [
    "## threshold\n",
    "df_pyspark1.na.drop(how='any', thresh =3).show() # it will delete row with atleast 3 non nan values"
   ]
  },
  {
   "cell_type": "code",
   "execution_count": 11,
   "metadata": {},
   "outputs": [
    {
     "name": "stdout",
     "output_type": "stream",
     "text": [
      "+-------+---+----------+------+\n",
      "|   Name|Age|Experience|Salary|\n",
      "+-------+---+----------+------+\n",
      "|  Sunny| 24|         3| 30000|\n",
      "|   Ravi| 29|         4| 32000|\n",
      "|Praveen| 22|         2| 25000|\n",
      "|   Ayan| 19|         1| 23000|\n",
      "|Sarvesh| 32|         6| 35000|\n",
      "|   Gyan| 26|         2| 31000|\n",
      "|Sreyash| 27|         3| 29500|\n",
      "|Parvati| 24|         1| 23000|\n",
      "|Parmesh| 28|         4| 24000|\n",
      "|   NULL| 34|        10| 38000|\n",
      "+-------+---+----------+------+\n",
      "\n"
     ]
    }
   ],
   "source": [
    "## subset\n",
    "## threshold\n",
    "df_pyspark1.na.drop(how='any', subset=['Experience']).show() # deleting only for Experience column"
   ]
  },
  {
   "cell_type": "code",
   "execution_count": 12,
   "metadata": {},
   "outputs": [
    {
     "name": "stdout",
     "output_type": "stream",
     "text": [
      "+-------+----+----------+------+\n",
      "|   Name| Age|Experience|Salary|\n",
      "+-------+----+----------+------+\n",
      "|  Sunny|  24|         3| 30000|\n",
      "|   Ravi|  29|         4| 32000|\n",
      "|Praveen|  22|         2| 25000|\n",
      "|   Ayan|  19|         1| 23000|\n",
      "|Sarvesh|  32|         6| 35000|\n",
      "|   Gyan|  26|         2| 31000|\n",
      "|Sreyash|  27|         3| 29500|\n",
      "|Parvati|  24|         1| 23000|\n",
      "|Parmesh|  28|         4| 24000|\n",
      "| Mahesh|NULL|      NULL| 40000|\n",
      "|   NULL|  34|        10| 38000|\n",
      "|   NULL|  36|      NULL|  NULL|\n",
      "+-------+----+----------+------+\n",
      "\n"
     ]
    }
   ],
   "source": [
    "df_pyspark1.show()"
   ]
  },
  {
   "cell_type": "code",
   "execution_count": 13,
   "metadata": {},
   "outputs": [
    {
     "name": "stdout",
     "output_type": "stream",
     "text": [
      "+--------------+----+----------+------+\n",
      "|          Name| Age|Experience|Salary|\n",
      "+--------------+----+----------+------+\n",
      "|         Sunny|  24|         3| 30000|\n",
      "|          Ravi|  29|         4| 32000|\n",
      "|       Praveen|  22|         2| 25000|\n",
      "|          Ayan|  19|         1| 23000|\n",
      "|       Sarvesh|  32|         6| 35000|\n",
      "|          Gyan|  26|         2| 31000|\n",
      "|       Sreyash|  27|         3| 29500|\n",
      "|       Parvati|  24|         1| 23000|\n",
      "|       Parmesh|  28|         4| 24000|\n",
      "|        Mahesh|NULL|      NULL| 40000|\n",
      "|Missing Values|  34|        10| 38000|\n",
      "|Missing Values|  36|      NULL|  NULL|\n",
      "+--------------+----+----------+------+\n",
      "\n"
     ]
    }
   ],
   "source": [
    "## filling the missing value\n",
    "df_pyspark1.na.fill('Missing Values').show()"
   ]
  },
  {
   "cell_type": "markdown",
   "metadata": {},
   "source": [
    "`the fill value doesnot work. I dont know why.`"
   ]
  },
  {
   "cell_type": "code",
   "execution_count": 22,
   "metadata": {},
   "outputs": [
    {
     "name": "stdout",
     "output_type": "stream",
     "text": [
      "+--------------+----+----------+------+\n",
      "|          Name| Age|Experience|Salary|\n",
      "+--------------+----+----------+------+\n",
      "|         Sunny|  24|         3| 30000|\n",
      "|          Ravi|  29|         4| 32000|\n",
      "|       Praveen|  22|         2| 25000|\n",
      "|          Ayan|  19|         1| 23000|\n",
      "|       Sarvesh|  32|         6| 35000|\n",
      "|          Gyan|  26|         2| 31000|\n",
      "|       Sreyash|  27|         3| 29500|\n",
      "|       Parvati|  24|         1| 23000|\n",
      "|       Parmesh|  28|         4| 24000|\n",
      "|        Mahesh|NULL|      NULL| 40000|\n",
      "|Missing Values|  34|        10| 38000|\n",
      "|Missing Values|  36|      NULL|  NULL|\n",
      "+--------------+----+----------+------+\n",
      "\n"
     ]
    }
   ],
   "source": [
    "## filling the missing value\n",
    "df_pyspark1.na.fill('Missing Values', subset = ['Name', 'Age', 'Experience', 'Salary']).show()"
   ]
  },
  {
   "cell_type": "code",
   "execution_count": 23,
   "metadata": {},
   "outputs": [
    {
     "name": "stdout",
     "output_type": "stream",
     "text": [
      "+--------------+----+----------+------+\n",
      "|          Name| Age|Experience|Salary|\n",
      "+--------------+----+----------+------+\n",
      "|         Sunny|  24|         3| 30000|\n",
      "|          Ravi|  29|         4| 32000|\n",
      "|       Praveen|  22|         2| 25000|\n",
      "|          Ayan|  19|         1| 23000|\n",
      "|       Sarvesh|  32|         6| 35000|\n",
      "|          Gyan|  26|         2| 31000|\n",
      "|       Sreyash|  27|         3| 29500|\n",
      "|       Parvati|  24|         1| 23000|\n",
      "|       Parmesh|  28|         4| 24000|\n",
      "|        Mahesh|NULL|      NULL| 40000|\n",
      "|Missing Values|  34|        10| 38000|\n",
      "|Missing Values|  36|      NULL|  NULL|\n",
      "+--------------+----+----------+------+\n",
      "\n"
     ]
    }
   ],
   "source": [
    "df_pyspark1.show()"
   ]
  },
  {
   "cell_type": "code",
   "execution_count": 24,
   "metadata": {},
   "outputs": [],
   "source": [
    "## replacing with the mean \n",
    "from pyspark.ml.feature import Imputer\n",
    "\n",
    "imputer = Imputer(\n",
    "    inputCols = ['Age', 'Experience', 'Salary'],\n",
    "    outputCols = [\"{}_imputed\".format(c) for c in ['Age', 'Experience', 'Salary']]\n",
    ").setStrategy(\"mean\")"
   ]
  },
  {
   "cell_type": "code",
   "execution_count": 25,
   "metadata": {},
   "outputs": [
    {
     "name": "stdout",
     "output_type": "stream",
     "text": [
      "+--------------+----+----------+------+-----------+------------------+--------------+\n",
      "|          Name| Age|Experience|Salary|Age_imputed|Experience_imputed|Salary_imputed|\n",
      "+--------------+----+----------+------+-----------+------------------+--------------+\n",
      "|         Sunny|  24|         3| 30000|         24|                 3|         30000|\n",
      "|          Ravi|  29|         4| 32000|         29|                 4|         32000|\n",
      "|       Praveen|  22|         2| 25000|         22|                 2|         25000|\n",
      "|          Ayan|  19|         1| 23000|         19|                 1|         23000|\n",
      "|       Sarvesh|  32|         6| 35000|         32|                 6|         35000|\n",
      "|          Gyan|  26|         2| 31000|         26|                 2|         31000|\n",
      "|       Sreyash|  27|         3| 29500|         27|                 3|         29500|\n",
      "|       Parvati|  24|         1| 23000|         24|                 1|         23000|\n",
      "|       Parmesh|  28|         4| 24000|         28|                 4|         24000|\n",
      "|        Mahesh|NULL|      NULL| 40000|         27|                 3|         40000|\n",
      "|Missing Values|  34|        10| 38000|         34|                10|         38000|\n",
      "|Missing Values|  36|      NULL|  NULL|         36|                 3|         30045|\n",
      "+--------------+----+----------+------+-----------+------------------+--------------+\n",
      "\n"
     ]
    }
   ],
   "source": [
    "imputer.fit(df_pyspark1).transform(df_pyspark1).show()"
   ]
  },
  {
   "cell_type": "code",
   "execution_count": 26,
   "metadata": {},
   "outputs": [],
   "source": [
    "imputer_median = Imputer(\n",
    "    inputCols = ['Age', 'Experience', 'Salary'],\n",
    "    outputCols = [\"{}_imputed\".format(c) for c in ['Age', 'Experience', 'Salary']]\n",
    ").setStrategy(\"median\")"
   ]
  },
  {
   "cell_type": "code",
   "execution_count": 27,
   "metadata": {},
   "outputs": [
    {
     "name": "stdout",
     "output_type": "stream",
     "text": [
      "+--------------+----+----------+------+-----------+------------------+--------------+\n",
      "|          Name| Age|Experience|Salary|Age_imputed|Experience_imputed|Salary_imputed|\n",
      "+--------------+----+----------+------+-----------+------------------+--------------+\n",
      "|         Sunny|  24|         3| 30000|         24|                 3|         30000|\n",
      "|          Ravi|  29|         4| 32000|         29|                 4|         32000|\n",
      "|       Praveen|  22|         2| 25000|         22|                 2|         25000|\n",
      "|          Ayan|  19|         1| 23000|         19|                 1|         23000|\n",
      "|       Sarvesh|  32|         6| 35000|         32|                 6|         35000|\n",
      "|          Gyan|  26|         2| 31000|         26|                 2|         31000|\n",
      "|       Sreyash|  27|         3| 29500|         27|                 3|         29500|\n",
      "|       Parvati|  24|         1| 23000|         24|                 1|         23000|\n",
      "|       Parmesh|  28|         4| 24000|         28|                 4|         24000|\n",
      "|        Mahesh|NULL|      NULL| 40000|         27|                 3|         40000|\n",
      "|Missing Values|  34|        10| 38000|         34|                10|         38000|\n",
      "|Missing Values|  36|      NULL|  NULL|         36|                 3|         30000|\n",
      "+--------------+----+----------+------+-----------+------------------+--------------+\n",
      "\n"
     ]
    }
   ],
   "source": [
    "imputer_median.fit(df_pyspark1).transform(df_pyspark1).show()"
   ]
  },
  {
   "cell_type": "markdown",
   "metadata": {},
   "source": [
    "# Pyspark Dataframes\n",
    "\n",
    "- Filter Operation\n",
    "- &, |, ==\n",
    "- ~"
   ]
  },
  {
   "cell_type": "code",
   "execution_count": 28,
   "metadata": {},
   "outputs": [
    {
     "name": "stdout",
     "output_type": "stream",
     "text": [
      "+-------+---+----------+------+\n",
      "|   Name|Age|Experience|Salary|\n",
      "+-------+---+----------+------+\n",
      "|  Sunny| 24|         3| 30000|\n",
      "|   Ravi| 29|         4| 32000|\n",
      "|Praveen| 22|         2| 25000|\n",
      "|   Ayan| 19|         1| 23000|\n",
      "|Sarvesh| 32|         6| 35000|\n",
      "|   Gyan| 26|         2| 31000|\n",
      "|Sreyash| 27|         3| 29500|\n",
      "|Parvati| 24|         1| 23000|\n",
      "|Parmesh| 28|         4| 24000|\n",
      "+-------+---+----------+------+\n",
      "\n"
     ]
    }
   ],
   "source": [
    "## second method to load the dataset\n",
    "df_pyspark2 = spark.read.csv('test2.csv', header=True, inferSchema=True)\n",
    "df_pyspark2.show()"
   ]
  },
  {
   "cell_type": "markdown",
   "metadata": {},
   "source": [
    "### filter operaition"
   ]
  },
  {
   "cell_type": "code",
   "execution_count": 32,
   "metadata": {},
   "outputs": [
    {
     "name": "stdout",
     "output_type": "stream",
     "text": [
      "+-------+---+----------+------+\n",
      "|   Name|Age|Experience|Salary|\n",
      "+-------+---+----------+------+\n",
      "|Praveen| 22|         2| 25000|\n",
      "|   Ayan| 19|         1| 23000|\n",
      "|Parvati| 24|         1| 23000|\n",
      "|Parmesh| 28|         4| 24000|\n",
      "+-------+---+----------+------+\n",
      "\n"
     ]
    }
   ],
   "source": [
    "## salary of the people less that or equal to 20000\n",
    "df_pyspark2.filter(df_pyspark2['Salary'] <= 25000).show()"
   ]
  },
  {
   "cell_type": "code",
   "execution_count": 33,
   "metadata": {},
   "outputs": [
    {
     "name": "stdout",
     "output_type": "stream",
     "text": [
      "+-------+---+\n",
      "|   Name|Age|\n",
      "+-------+---+\n",
      "|Praveen| 22|\n",
      "|   Ayan| 19|\n",
      "|Parvati| 24|\n",
      "|Parmesh| 28|\n",
      "+-------+---+\n",
      "\n"
     ]
    }
   ],
   "source": [
    "df_pyspark2.filter(df_pyspark2['Salary'] <= 25000).select(['Name','Age']).show()"
   ]
  },
  {
   "cell_type": "markdown",
   "metadata": {},
   "source": [
    "this can also be written as"
   ]
  },
  {
   "cell_type": "code",
   "execution_count": 41,
   "metadata": {},
   "outputs": [
    {
     "name": "stdout",
     "output_type": "stream",
     "text": [
      "+-------+---+\n",
      "|   Name|Age|\n",
      "+-------+---+\n",
      "|Praveen| 22|\n",
      "|   Ayan| 19|\n",
      "|Parvati| 24|\n",
      "|Parmesh| 28|\n",
      "+-------+---+\n",
      "\n"
     ]
    }
   ],
   "source": [
    "df_pyspark2.filter((df_pyspark2['Salary'] <= 25000) & \n",
    "                   (df_pyspark2['Salary']>=15000)).select(['Name','Age']).show()"
   ]
  },
  {
   "cell_type": "code",
   "execution_count": 42,
   "metadata": {},
   "outputs": [
    {
     "name": "stdout",
     "output_type": "stream",
     "text": [
      "+-------+---+\n",
      "|   Name|Age|\n",
      "+-------+---+\n",
      "|  Sunny| 24|\n",
      "|   Ravi| 29|\n",
      "|Sarvesh| 32|\n",
      "|   Gyan| 26|\n",
      "|Sreyash| 27|\n",
      "+-------+---+\n",
      "\n"
     ]
    }
   ],
   "source": [
    "## Not operation\n",
    "df_pyspark2.filter(~(df_pyspark2['Salary'] <= 25000)).select(['Name','Age']).show()"
   ]
  },
  {
   "cell_type": "markdown",
   "metadata": {},
   "source": [
    "# Pyspark GroupBy and Aggregate Functions"
   ]
  },
  {
   "cell_type": "code",
   "execution_count": 43,
   "metadata": {},
   "outputs": [
    {
     "name": "stdout",
     "output_type": "stream",
     "text": [
      "+---------+------------+------+\n",
      "|     Name| Departments|salary|\n",
      "+---------+------------+------+\n",
      "|    Krish|Data Science| 10000|\n",
      "|    Krish|         IOT|  5000|\n",
      "|   Mahesh|    Big Data|  4000|\n",
      "|    Krish|    Big Data|  4000|\n",
      "|   Mahesh|Data Science|  3000|\n",
      "|Sudhanshu|Data Science| 20000|\n",
      "|Sudhanshu|         IOT| 10000|\n",
      "|Sudhanshu|    Big Data|  5000|\n",
      "|    Sunny|Data Science| 10000|\n",
      "|    Sunny|    Big Data|  2000|\n",
      "+---------+------------+------+\n",
      "\n"
     ]
    }
   ],
   "source": [
    "## second method to load the dataset\n",
    "df_pyspark3 = spark.read.csv('test3.csv', header=True, inferSchema=True)\n",
    "df_pyspark3.show()"
   ]
  },
  {
   "cell_type": "code",
   "execution_count": 44,
   "metadata": {},
   "outputs": [
    {
     "name": "stdout",
     "output_type": "stream",
     "text": [
      "root\n",
      " |-- Name: string (nullable = true)\n",
      " |-- Departments: string (nullable = true)\n",
      " |-- salary: integer (nullable = true)\n",
      "\n"
     ]
    }
   ],
   "source": [
    "df_pyspark3.printSchema()"
   ]
  },
  {
   "cell_type": "code",
   "execution_count": 47,
   "metadata": {},
   "outputs": [
    {
     "name": "stdout",
     "output_type": "stream",
     "text": [
      "+---------+-----------+\n",
      "|     Name|sum(salary)|\n",
      "+---------+-----------+\n",
      "|Sudhanshu|      35000|\n",
      "|    Sunny|      12000|\n",
      "|    Krish|      19000|\n",
      "|   Mahesh|       7000|\n",
      "+---------+-----------+\n",
      "\n"
     ]
    }
   ],
   "source": [
    "## Groupby operations\n",
    "### Mean average salalry\n",
    "df_pyspark3.groupBy('Name').sum().show()"
   ]
  },
  {
   "cell_type": "code",
   "execution_count": 48,
   "metadata": {},
   "outputs": [
    {
     "name": "stdout",
     "output_type": "stream",
     "text": [
      "+------------+-----------+\n",
      "| Departments|sum(salary)|\n",
      "+------------+-----------+\n",
      "|         IOT|      15000|\n",
      "|    Big Data|      15000|\n",
      "|Data Science|      43000|\n",
      "+------------+-----------+\n",
      "\n"
     ]
    }
   ],
   "source": [
    "## groupby Departments which gives maximum salalry\n",
    "df_pyspark3.groupBy('Departments').sum().show()"
   ]
  },
  {
   "cell_type": "code",
   "execution_count": 49,
   "metadata": {},
   "outputs": [
    {
     "name": "stdout",
     "output_type": "stream",
     "text": [
      "+------------+-----------+\n",
      "| Departments|avg(salary)|\n",
      "+------------+-----------+\n",
      "|         IOT|     7500.0|\n",
      "|    Big Data|     3750.0|\n",
      "|Data Science|    10750.0|\n",
      "+------------+-----------+\n",
      "\n"
     ]
    }
   ],
   "source": [
    "## groupby Departments which gives mean salalry\n",
    "df_pyspark3.groupBy('Departments').mean().show()"
   ]
  },
  {
   "cell_type": "code",
   "execution_count": 50,
   "metadata": {},
   "outputs": [
    {
     "name": "stdout",
     "output_type": "stream",
     "text": [
      "+------------+-----+\n",
      "| Departments|count|\n",
      "+------------+-----+\n",
      "|         IOT|    2|\n",
      "|    Big Data|    4|\n",
      "|Data Science|    4|\n",
      "+------------+-----+\n",
      "\n"
     ]
    }
   ],
   "source": [
    "## how many employess working in a department\n",
    "df_pyspark3.groupBy('Departments').count().show()"
   ]
  },
  {
   "cell_type": "code",
   "execution_count": 51,
   "metadata": {},
   "outputs": [
    {
     "name": "stdout",
     "output_type": "stream",
     "text": [
      "+-----------+\n",
      "|sum(Salary)|\n",
      "+-----------+\n",
      "|      73000|\n",
      "+-----------+\n",
      "\n"
     ]
    }
   ],
   "source": [
    "df_pyspark3.agg({'Salary':'sum'}).show()"
   ]
  },
  {
   "cell_type": "code",
   "execution_count": 52,
   "metadata": {},
   "outputs": [
    {
     "name": "stdout",
     "output_type": "stream",
     "text": [
      "+---------+-----------+\n",
      "|     Name|max(salary)|\n",
      "+---------+-----------+\n",
      "|Sudhanshu|      20000|\n",
      "|    Sunny|      10000|\n",
      "|    Krish|      10000|\n",
      "|   Mahesh|       4000|\n",
      "+---------+-----------+\n",
      "\n"
     ]
    }
   ],
   "source": [
    "# maximum slaalry of a employee using agg function\n",
    "\n",
    "df_pyspark3.groupBy('Name').max().show()"
   ]
  },
  {
   "cell_type": "code",
   "execution_count": null,
   "metadata": {},
   "outputs": [],
   "source": []
  }
 ],
 "metadata": {
  "kernelspec": {
   "display_name": "devenv",
   "language": "python",
   "name": "python3"
  },
  "language_info": {
   "codemirror_mode": {
    "name": "ipython",
    "version": 3
   },
   "file_extension": ".py",
   "mimetype": "text/x-python",
   "name": "python",
   "nbconvert_exporter": "python",
   "pygments_lexer": "ipython3",
   "version": "3.8.10"
  }
 },
 "nbformat": 4,
 "nbformat_minor": 2
}
